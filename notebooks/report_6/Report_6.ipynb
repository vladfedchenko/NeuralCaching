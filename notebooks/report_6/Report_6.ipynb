{
 "cells": [
  {
   "cell_type": "markdown",
   "metadata": {},
   "source": [
    "Checking that the predictions for case 1 are correct (log transformation + Leaky ReLU).\n",
    "<img src=\"1_order_plot.png\"/>"
   ]
  },
  {
   "cell_type": "markdown",
   "metadata": {},
   "source": [
    "Proposed caching policy is using a modified input to the neural network. Need to check that this doesn't cause reduction in accuracy."
   ]
  },
  {
   "cell_type": "markdown",
   "metadata": {},
   "source": [
    "For case 1 everything is OK.\n",
    "<img src=\"2_order_plot.png\"/>"
   ]
  },
  {
   "cell_type": "markdown",
   "metadata": {},
   "source": [
    "But for case 2 it is not that clear. <br/>\n",
    "When using larger window, the predictions have better accuracy. But the hit rate is much lower.<br/>"
   ]
  },
  {
   "cell_type": "markdown",
   "metadata": {},
   "source": [
    "| Large window | Small window |\n",
    "| --- | --- |\n",
    "| <img src=\"3/order_plot_lw.png\"/> | <img src=\"3/order_plot_sw.png\"/> |\n",
    "<img src=\"3/cache_hit_plot.png\"/>"
   ]
  },
  {
   "cell_type": "markdown",
   "metadata": {},
   "source": [
    "Also checking how the policy is going to perform if the future popularity is known instead of being predicted by the NN. <br/>\n",
    "<b>Case 1<b/>\n",
    "<img src=\"4/cache_hit_plot_case1.png\"/>\n",
    "<b>Case 2<b/>\n",
    "<img src=\"4/cache_hit_plot_case2.png\"/>\n",
    "<b>Real<b/>\n",
    "<img src=\"4/cache_hit_plot_real.png\"/>"
   ]
  },
  {
   "cell_type": "code",
   "execution_count": null,
   "metadata": {},
   "outputs": [],
   "source": []
  }
 ],
 "metadata": {
  "kernelspec": {
   "display_name": "Python 3",
   "language": "python",
   "name": "python3"
  },
  "language_info": {
   "codemirror_mode": {
    "name": "ipython",
    "version": 3
   },
   "file_extension": ".py",
   "mimetype": "text/x-python",
   "name": "python",
   "nbconvert_exporter": "python",
   "pygments_lexer": "ipython3",
   "version": "3.6.5"
  }
 },
 "nbformat": 4,
 "nbformat_minor": 2
}
