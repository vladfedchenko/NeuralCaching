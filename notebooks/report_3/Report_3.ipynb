{
 "cells": [
  {
   "cell_type": "markdown",
   "metadata": {},
   "source": [
    "After receiving good results with $ log(frac + 10^{-5}) $ transformation for both input and output I've decided to test the same tranformation on mixed population, but also adding the negation to the transformation. Thus, the final transformation formula is $ -log(frac + 10^{-5}) $."
   ]
  },
  {
   "cell_type": "markdown",
   "metadata": {},
   "source": [
    "Previously, I've told that I had no success using pure ReLU activation since the input was negative, randomly initialized weights of the NN are in range $ [0, 1] $ making the output also negative. In this case the gradient is always 0, so no weight changing is happening. Since now I negate the input and output pure ReLU should work, but again I've encountered the same problem. In my opinion the reason is that after the first iteration the error is large, which causes the weights to go negative after the first update and after that no training, as in the first case. So I was forced to use Leaky ReLU again. This are the results:"
   ]
  },
  {
   "cell_type": "markdown",
   "metadata": {},
   "source": [
    "| Learning curves | Ordering |\n",
    "| --- | --- |\n",
    "|No label <img src=\"1/1_err_curves.png\"/>|No label <img src=\"1/1_order_plot.png\"/>|\n",
    "|With <img src=\"1/2_err_curves.png\"/>|With label <img src=\"1/2_order_plot.png\"/>|"
   ]
  },
  {
   "cell_type": "markdown",
   "metadata": {},
   "source": [
    "In both cases the popularity for the shuffeled population is predicted to be close to $ 5 * 10{-5} $, which is lower than calculated theoretical value. The reason may be in the way I calculate the theoretical popularity. Discussion needed."
   ]
  },
  {
   "cell_type": "markdown",
   "metadata": {},
   "source": [
    "The next experiment - try the same transformation on the real trace. I was forced to reduce the size of the real trace since to calculate real popularities on the whole trace would take very long time."
   ]
  },
  {
   "cell_type": "markdown",
   "metadata": {},
   "source": [
    "<img src=\"2_screenshot.png\"/>"
   ]
  },
  {
   "cell_type": "markdown",
   "metadata": {},
   "source": [
    "The length was reduced from $ 417 * 10^6 $ lines to $ 50 * 10^6$. As for now the experiment with the real trace is still running."
   ]
  },
  {
   "cell_type": "markdown",
   "metadata": {},
   "source": [
    "The idea for the next experiment is to check what error the introduction of CountMin sketch brings with different number of cells. The results of this experiment are also not ready yet."
   ]
  },
  {
   "cell_type": "code",
   "execution_count": null,
   "metadata": {},
   "outputs": [],
   "source": []
  }
 ],
 "metadata": {
  "kernelspec": {
   "display_name": "Python 3",
   "language": "python",
   "name": "python3"
  },
  "language_info": {
   "codemirror_mode": {
    "name": "ipython",
    "version": 3
   },
   "file_extension": ".py",
   "mimetype": "text/x-python",
   "name": "python",
   "nbconvert_exporter": "python",
   "pygments_lexer": "ipython3",
   "version": "3.6.5"
  }
 },
 "nbformat": 4,
 "nbformat_minor": 2
}
