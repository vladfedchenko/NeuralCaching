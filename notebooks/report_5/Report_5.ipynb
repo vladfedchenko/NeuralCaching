{
 "cells": [
  {
   "cell_type": "markdown",
   "metadata": {},
   "source": [
    "A caching policy that uses a NN has been proposed:\n",
    "when an object is requested a row is synthetic - x-3 through x-1 are popularity values in previous 3 time frames. x0 is the popularity in the current time window. Previous experiments showed that it is a good idea to transform popularity using log transformation, so log transformation is applied. T is the fraction of the length of the current time window that has already passed. Passing this value may help the NN by indicating the quality of the value x0. If a small fraction of the time window has passed it means that x0 is noisy.\n",
    "The NN then predicts the popularity in the next time frame x1. If the requested object is not cached, then from the cache an object with the smallest predicted popularity is fetched. The predicted popularity of the fetched object is compared with the x1. If x1 is larger, then the new object is cached instead of the fetched.\n",
    "If the requested object is already cached then its predicted popularity is updated with x1.\n",
    "There may appear a problem if for some object the predicted popularity happened to be very high. If this happens then the object is unlikely to be removed from the cache since it will never be the fetched for replacement. To solve this problem after every cache hit the predicted popularity for a few random cached objects is updated.\n"
   ]
  },
  {
   "cell_type": "markdown",
   "metadata": {},
   "source": [
    "<img src=\"cache_hit_plot_case1.png\"/>\n",
    "<img src=\"cache_hit_plot_case2.png\"/>\n",
    "<img src=\"cache_hit_plot_real.png\"/>"
   ]
  },
  {
   "cell_type": "markdown",
   "metadata": {},
   "source": [
    "The improvement proposed: if less then half window passed than the output is popularity at the end of current time slot. If more passed than the output is the popularity in the next time slot."
   ]
  },
  {
   "cell_type": "markdown",
   "metadata": {},
   "source": [
    "<img src=\"cache_hit_plot_hw_case2.png\"/>"
   ]
  },
  {
   "cell_type": "code",
   "execution_count": null,
   "metadata": {},
   "outputs": [],
   "source": []
  }
 ],
 "metadata": {
  "kernelspec": {
   "display_name": "Python 3",
   "language": "python",
   "name": "python3"
  },
  "language_info": {
   "codemirror_mode": {
    "name": "ipython",
    "version": 3
   },
   "file_extension": ".py",
   "mimetype": "text/x-python",
   "name": "python",
   "nbconvert_exporter": "python",
   "pygments_lexer": "ipython3",
   "version": "3.6.5"
  }
 },
 "nbformat": 4,
 "nbformat_minor": 2
}
