{
 "cells": [
  {
   "cell_type": "markdown",
   "metadata": {},
   "source": [
    "After examination of the source code a bug has been discovered that caused the trouble with the evaluation of the distance to distribution. After the bug has been fixed it was decided to test different neural network configurations:\n",
    "* do not apply sigmoid activation to any layer;\n",
    "* apply sigmoid activation only to hidden layers;\n",
    "* apply sigmoid activation to all layers;\n",
    "\n",
    "Each configuration has 2 hidden layers with 20 neurons.\n",
    "\n",
    "The tests has been performed on 3 different types of datasets which were produced using generated traces with 2 types of population. \n",
    "\n",
    "__Case 1: single population.__<br>\n",
    "Arrivals: Poisson with 20.0 mean time between arrivals.<br>\n",
    "Popularity: Zipf with 0.8 parameter.<br>\n",
    "Number of items: 100 000.<br>\n",
    "\n",
    "__Case 2: mixed 2 populations.__<br>\n",
    "Arrivals: Poisson with 40.0 mean time between arrivals for both of populations.<br>\n",
    "Popularity: Zipf with 0.8 parameter for both populations, but for second population the IDs are randomly shuffled each time window.<br>\n",
    "Number of items: 50 000 in each population.<br>\n",
    "\n",
    "The **Dataset 1** is generated using only case 1 population, the **Dataset 2** - using case 2 population without keeping class label, the **Dataset 3** - using case 2 population keeping class label. Each dataset consists of 6 columns - ID of the object, popularities in 4 previous time windows, popularity in 5-th time window (which NN should try to predict). **Dataset 3** additionally contains a column with class label (0 or 1).\n",
    "\n",
    "During tests it was observed that the neural network performs better training on **Dataset 2** rather than on **Dataset 3**, which should't be the case, since **Dataset 3** contains more information. It was decided to transform **Dataset 3** in a way that 4 popularity in previous time window columns are transformed into 8 columns. The first 4 columns out of 8 new columns are non-zero and contain popularity values if the item's class label is 0. If the class label is 1 then the last 4 columns are non-zero.\n",
    "\n",
    "Now let’s present what results has been achieved:"
   ]
  },
  {
   "cell_type": "markdown",
   "metadata": {},
   "source": [
    "## 1. No sigmoid activation\n",
    "### Dataset 1. Distance to distribution.\n",
    "<img src=\"no_sigmoid/case1_dist_plot.png\" style=\"width: 700px;\"/> \n",
    "### Dataset 1. Ordering.\n",
    "<img src=\"no_sigmoid/case1_order_plot.png\" style=\"width: 700px;\"/> \n",
    "### Dataset 2. Distance to distribution.\n",
    "<img src=\"no_sigmoid/case2_no_label_dist_plot.png\" style=\"width: 700px;\"/> \n",
    "### Dataset 2. Ordering.\n",
    "<img src=\"no_sigmoid/case2_no_label_order_plot.png\" style=\"width: 700px;\"/> \n",
    "### Dataset 3. Distance to distribution.\n",
    "<img src=\"no_sigmoid/case2_with_label_dist_plot.png\" style=\"width: 700px;\"/> \n",
    "### Dataset 3. Ordering.\n",
    "<img src=\"no_sigmoid/case2_with_label_order_plot.png\" style=\"width: 700px;\"/>\n",
    " \n",
    "As seen from the plots, this configuration performed reasonably well in terms of item ordering in all cases even though the predicted popularities can be far from real popularities."
   ]
  },
  {
   "cell_type": "markdown",
   "metadata": {},
   "source": [
    "## 2. Sigmoid activation on hidden layers.\n",
    "### Dataset 1. Distance to distribution.\n",
    "<img src=\"middle_sigmoid/case1_dist_plot.png\" style=\"width: 700px;\"/> \n",
    "### Dataset 1. Ordering.\n",
    "<img src=\"middle_sigmoid/case1_order_plot.png\" style=\"width: 700px;\"/> \n",
    "### Dataset 2. Distance to distribution.\n",
    "<img src=\"middle_sigmoid/case2_no_label_dist_plot.png\" style=\"width: 700px;\"/> \n",
    "### Dataset 2. Ordering.\n",
    "<img src=\"middle_sigmoid/case2_no_label_order_plot.png\" style=\"width: 700px;\"/> \n",
    "### Dataset 3. Distance to distribution.\n",
    "<img src=\"middle_sigmoid/case2_with_label_dist_plot.png\" style=\"width: 700px;\"/> \n",
    "### Dataset 3. Ordering.\n",
    "<img src=\"middle_sigmoid/case2_with_label_order_plot.png\" style=\"width: 700px;\"/>\n",
    "\n",
    "This configuration also performed reasonably well with item ordering, but popularity prediction has less variability and still is not very accurate."
   ]
  },
  {
   "cell_type": "markdown",
   "metadata": {},
   "source": [
    "## 3. Sigmoid activation on all layers.\n",
    "### Dataset 1. Distance to distribution.\n",
    "<img src=\"all_sigmoid/case1_dist_plot.png\" style=\"width: 700px;\"/> \n",
    "### Dataset 1. Ordering.\n",
    "<img src=\"all_sigmoid/case1_order_plot.png\" style=\"width: 700px;\"/> \n",
    "### Dataset 2. Distance to distribution.\n",
    "<img src=\"all_sigmoid/case2_no_label_dist_plot.png\" style=\"width: 700px;\"/> \n",
    "### Dataset 2. Ordering.\n",
    "<img src=\"all_sigmoid/case2_no_label_order_plot.png\" style=\"width: 700px;\"/> \n",
    "### Dataset 3. Distance to distribution.\n",
    "<img src=\"all_sigmoid/case2_with_label_dist_plot.png\" style=\"width: 700px;\"/> \n",
    "### Dataset 3. Ordering.\n",
    "<img src=\"all_sigmoid/case2_with_label_order_plot.png\" style=\"width: 700px;\"/>\n",
    "\n",
    "But the last configuration ordered the items with all 3 datasets in reverse order. Also the predicted popularity is almost the same for each item and close to the average popularity - 1e-5."
   ]
  },
  {
   "cell_type": "markdown",
   "metadata": {},
   "source": [
    "After running the learning again for a few times the neural networks were able to order the items correctly, but the predicted popularity behaviour is the same.\n",
    "\n",
    "| Distance to distribution | Ordering |\n",
    "|-|-|\n",
    "| Dataset 1. Distance to distribution. | Dataset 1. Ordering. |\n",
    "|-|-|\n",
    "|<img src=\"all_sigmoid_fix/case1_dist_plot.png\" style=\"width: 700px;\"/>|<img src=\"all_sigmoid_fix/case1_order_plot.png\" style=\"width: 700px;\"/>|\n",
    "|-|-|\n",
    "| Dataset 2. Distance to distribution. | Dataset 2. Ordering. |\n",
    "|-|-|\n",
    "|<img src=\"all_sigmoid_fix/case2_no_label_dist_plot.png\" style=\"width: 700px;\"/>|<img src=\"all_sigmoid_fix/case2_no_label_order_plot.png\" style=\"width: 700px;\"/>|\n",
    "|-|-|\n",
    "| Dataset 3. Distance to distribution. | Dataset 3. Ordering. |\n",
    "|-|-|\n",
    "|<img src=\"all_sigmoid_fix/case2_with_label_dist_plot.png\" style=\"width: 700px;\"/>|<img src=\"all_sigmoid_fix/case2_with_label_order_plot.png\" style=\"width: 700px;\"/>|"
   ]
  },
  {
   "cell_type": "markdown",
   "metadata": {},
   "source": [
    "Atempts to change the number of layers, number of neurons in hidden layers, applying different learning rates produced the same behaviour."
   ]
  },
  {
   "cell_type": "code",
   "execution_count": null,
   "metadata": {},
   "outputs": [],
   "source": []
  }
 ],
 "metadata": {
  "kernelspec": {
   "display_name": "Python 3",
   "language": "python",
   "name": "python3"
  },
  "language_info": {
   "codemirror_mode": {
    "name": "ipython",
    "version": 3
   },
   "file_extension": ".py",
   "mimetype": "text/x-python",
   "name": "python",
   "nbconvert_exporter": "python",
   "pygments_lexer": "ipython3",
   "version": "3.6.5"
  }
 },
 "nbformat": 4,
 "nbformat_minor": 2
}
