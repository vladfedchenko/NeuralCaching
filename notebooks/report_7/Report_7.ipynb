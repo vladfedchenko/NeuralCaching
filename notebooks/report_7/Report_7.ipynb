{
 "cells": [
  {
   "cell_type": "markdown",
   "metadata": {},
   "source": [
    "An error may have been introduced since the hit rate evaluation has been executed with \"cold start\".<br/>\n",
    "Also adding average predictor policy for comparison."
   ]
  },
  {
   "cell_type": "markdown",
   "metadata": {},
   "source": [
    "<b>Case 1<b/>\n",
    "<img src=\"case1_cache_hit_plot.png\"/>\n",
    "<b>Case 2<b/>\n",
    "<img src=\"case2_cache_hit_plot.png\"/>\n",
    "<b>Real<b/>\n",
    "<img src=\"real_cache_hit_plot.png\"/>"
   ]
  },
  {
   "cell_type": "code",
   "execution_count": null,
   "metadata": {},
   "outputs": [],
   "source": []
  }
 ],
 "metadata": {
  "kernelspec": {
   "display_name": "Python 3",
   "language": "python",
   "name": "python3"
  },
  "language_info": {
   "codemirror_mode": {
    "name": "ipython",
    "version": 3
   },
   "file_extension": ".py",
   "mimetype": "text/x-python",
   "name": "python",
   "nbconvert_exporter": "python",
   "pygments_lexer": "ipython3",
   "version": "3.6.5"
  }
 },
 "nbformat": 4,
 "nbformat_minor": 2
}
